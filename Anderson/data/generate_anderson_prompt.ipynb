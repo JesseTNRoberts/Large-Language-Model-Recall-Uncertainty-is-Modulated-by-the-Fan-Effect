{
  "cells": [
    {
      "cell_type": "code",
      "execution_count": 1,
      "metadata": {
        "id": "NnBb1dX4kyYm"
      },
      "outputs": [],
      "source": [
        "import pandas as pd\n",
        "import numpy as np\n",
        "import random\n",
        "import os"
      ]
    },
    {
      "cell_type": "code",
      "execution_count": 2,
      "metadata": {
        "id": "otTFFdLklAey"
      },
      "outputs": [],
      "source": [
        "# Function to compute softmax values\n",
        "def softmax(values):\n",
        "    exp_values = np.exp(values - np.max(values))\n",
        "    return exp_values / exp_values.sum()\n",
        "\n",
        "# Function to generate Gaussian and softmax values for people and places\n",
        "def generate_probabilities(people, places):\n",
        "    people_gauss = {person: random.gauss(0, 1) for person in people}\n",
        "    place_gauss = {place: random.gauss(0, 1) for place in places}\n",
        "    people_softmax = softmax(np.array(list(people_gauss.values())))\n",
        "    place_softmax = softmax(np.array(list(place_gauss.values())))\n",
        "    people_probs = dict(zip(people, people_softmax))\n",
        "    place_probs = dict(zip(places, place_softmax))\n",
        "    return people_probs, place_probs"
      ]
    },
    {
      "cell_type": "code",
      "execution_count": 3,
      "metadata": {
        "id": "AFC_L_76lHsz"
      },
      "outputs": [],
      "source": [
        "# Function to generate objects set\n",
        "def generate_objects(people, places, max_sentences, randomized):\n",
        "    objects = set()\n",
        "    if randomized:\n",
        "        people_probs, place_probs = generate_probabilities(people, places)\n",
        "        while len(objects) < max_sentences:\n",
        "            person = random.choices(list(people_probs.keys()), weights=list(people_probs.values()))[0]\n",
        "            place = random.choices(list(place_probs.keys()), weights=list(place_probs.values()))[0]\n",
        "            objects.add((person, place))\n",
        "    else:\n",
        "        lowercase_letters = 'abcdefghijklmnor'\n",
        "        uppercase_letters = 'ABCDEFGHIJKLMNOR'\n",
        "        ran_people = list(random.sample(people, len(people)))\n",
        "        ran_places = list(random.sample(places, len(places)))\n",
        "        people_dict = {lowercase_letters[i]: ran_people[i] for i in range(len(lowercase_letters))}\n",
        "        places_dict = {uppercase_letters[i]: ran_places[i] for i in range(len(uppercase_letters))}\n",
        "        predefined_pairs = {\n",
        "            ('a', 'A'), ('b', 'B'), ('c', 'C'), ('d', 'D'), ('e', 'E'), ('f', 'F'), ('g', 'G'), ('h', 'H'),\n",
        "            ('i', 'I'), ('j', 'J'), ('k', 'K'), ('l', 'L'), ('e', 'K'), ('r', 'R'), ('g', 'J'), ('h', 'R'),\n",
        "            ('i', 'L'), ('m', 'M'), ('n', 'N'), ('o', 'O'), ('d', 'M'), ('r', 'N'), ('f', 'O'), ('g', 'M'),\n",
        "            ('h', 'N'), ('i', 'O')\n",
        "        }\n",
        "        objects = {(people_dict[p], places_dict[l]) for p, l in predefined_pairs}\n",
        "    objects = list(random.sample(list(objects), len(objects)))\n",
        "    return objects\n",
        "\n",
        "\n",
        "\n",
        "# Function to generate prompt components\n",
        "def generate_prompt_components(objects, inst_preamble, fact_format, fact_order, fact_sep, query_format):\n",
        "    fact_list = fact_sep.join([fact_format.format(*[obj[i] for i in fact_order]) for obj in objects]) + fact_sep\n",
        "    prompt = f\"{inst_preamble}{fact_list}{query_format}\"\n",
        "    return prompt\n",
        "\n",
        "# Function to print objects and prompts\n",
        "def print_objects_and_prompts(objects, prompt):\n",
        "    print(\"Objects:\", objects)\n",
        "    print(\"Prompts:\", prompt)"
      ]
    },
    {
      "cell_type": "code",
      "execution_count": 4,
      "metadata": {
        "id": "OUx1UBe8lNcx"
      },
      "outputs": [],
      "source": [
        "# Function to calculate fan value\n",
        "def fan(x, objects, index=None):\n",
        "    return sum(1 for obj in objects if x in obj)# / len(objects)\n",
        "\n",
        "\n",
        "# Function to print fan values\n",
        "def print_fan_values(objects, fact_format):\n",
        "    for obj in objects:\n",
        "        person, plc = obj\n",
        "        fan_person = fan(person, objects)\n",
        "        fan_place = fan(plc, objects)\n",
        "        print('The sentence \"{}\" has fan values: person: {}, place: {}'.format(fact_format.format(person,plc), fan_person, fan_place))\n"
      ]
    },
    {
      "cell_type": "code",
      "execution_count": 5,
      "metadata": {
        "id": "mlPnAsialQa_"
      },
      "outputs": [],
      "source": [
        "# Function to generate final data and save to CSV\n",
        "def generate_and_save_data(people, places, objects, prompt, path, randomized, target_stimuli, include_all_cases, query_order):\n",
        "    data = []\n",
        "    #instead {istruction}{fact_list}{query}. fact_list: person and place grouped together, query: senetnce that does if this is that\n",
        "\n",
        "    for stim in target_stimuli:\n",
        "        for person in people:\n",
        "            for place in places:\n",
        "              if include_all_cases or (stim == \"present\" and (person, place) in objects):# or (stim == \"absent\" or (person, place) not in objects):\n",
        "                fan_person = fan(person, objects)\n",
        "                fan_place  = fan(place, objects)\n",
        "                true_category = \"present\" if (person, place) in objects else \"absent\"\n",
        "                # Combine prompt and preamble\n",
        "                query_prompt = prompt.format(*[[person, place][i] for i in query_order])\n",
        "                data.append([query_prompt, person, fan_person, place, fan_place, stim, true_category])\n",
        "    new_prompts_df = pd.DataFrame(data, columns=['Preamble', 'Person', 'Fan_Person', 'Place', 'Fan_Place', 'Dependent_Variable', 'True_Category'])\n",
        "    new_prompts_df.to_csv(path, index=False )"
      ]
    },
    {
      "cell_type": "code",
      "execution_count": 6,
      "metadata": {
        "id": "mHDorjk_lVuI"
      },
      "outputs": [],
      "source": [
        "# Regenerating Prompts\n",
        "def run_experiment(people, places,\n",
        "                   output_dir,\n",
        "                   max_sentences=50,\n",
        "                   randomized=True,\n",
        "                   inst_preamble=None,\n",
        "                   fact_format=None,\n",
        "                   fact_order=None,\n",
        "                   fact_sep=None,\n",
        "                   query_format=None,\n",
        "                   query_order=None,\n",
        "                   target_stimuli=None,\n",
        "                   include_all_cases = True):\n",
        "    objects = generate_objects(people, places, max_sentences, randomized)\n",
        "\n",
        "    prompt = generate_prompt_components(objects, inst_preamble, fact_format, fact_order, fact_sep, query_format)\n",
        "    # print_objects_and_prompts(objects, prompt)\n",
        "    # print_fan_values(objects, fact_format)  # Print fan values\n",
        "    new_prompts_path = output_dir + '/' + ('And_Aug' if randomized else 'And_Orig')\n",
        "    os.makedirs(new_prompts_path, exist_ok=True)\n",
        "    generate_and_save_data(people, places, objects, prompt, new_prompts_path + '/prompts.csv', randomized, target_stimuli, include_all_cases, query_order)"
      ]
    },
    {
      "cell_type": "code",
      "execution_count": 9,
      "metadata": {
        "colab": {
          "base_uri": "https://localhost:8080/"
        },
        "id": "N-H23f24lad8",
        "outputId": "fba452b4-6d0d-4568-cc31-dec8e801fba4"
      },
      "outputs": [],
      "source": [
        "# Parameters\n",
        "# Ensure the output directory exists\n",
        "\n",
        "people = list(pd.read_csv('./People.csv')['People'])\n",
        "places = list(pd.read_csv('./Places.csv')['Place'])\n",
        "\n",
        "inst = 'Following is a list that contains a number of people and the places in which they are located. After the list, a person will be judged as either present or absent in a specified place. When asked about person A in place B, if the list says that person A is in place B, answer with present. If the list does not say that person A is in place B, answer with absent. The list of people and places is: '\n",
        "few_shot = 'The Mechanic is in the Mall. According to the list, in the Mall, the Mechanic is present. According to the list, in the Airport, the Pilot is absent. '\n",
        "query = few_shot + 'According to the list, in the {}, the {} is '\n",
        "\n",
        "out_dir = './Random/run_{}'\n",
        "\n",
        "target_stimuli = ['absent', 'present']\n",
        "\n",
        "for i in range(10):\n",
        "    user_defined_components = {\n",
        "        'inst_preamble': inst,\n",
        "        'fact_format': 'The {} is in the {}',\n",
        "        'fact_order': [0, 1],\n",
        "        'fact_sep': '. ',\n",
        "        'query_format': query,\n",
        "        'query_order': [1, 0],\n",
        "        'target_stimuli': target_stimuli,\n",
        "    }\n",
        "\n",
        "    run_experiment(people, places, out_dir.format(i), max_sentences=50, randomized=True,  **user_defined_components, include_all_cases = True)\n",
        "    run_experiment(people, places, out_dir.format(i),                   randomized=False, **user_defined_components, include_all_cases = True)"
      ]
    },
    {
      "cell_type": "markdown",
      "metadata": {},
      "source": [
        "Oseremhen came up with the following ideas/additions to consider:\n",
        "\n",
        "Additional object type combos:\n",
        "    Positional\n",
        "        Bird vs Place\n",
        "        Furniture vs Place\n",
        "        Animal vs Place(Habitat?)\n",
        "        Person vs Place\n",
        "            Name\n",
        "            Profession\n",
        "    \n",
        "    Usage\n",
        "        Flower \n",
        "        Toy vs Person\n",
        "        Food vs Person\n",
        "            Fruit vs Person\n",
        "        Sport vs Equipment\n",
        "\n",
        "    Grade vs Course\n",
        "\n",
        "    minimal group paradigm (nonsense with nonsense)"
      ]
    }
  ],
  "metadata": {
    "colab": {
      "authorship_tag": "ABX9TyNXm8uw8hUm198Tj9sARMGi",
      "include_colab_link": true,
      "mount_file_id": "1Omsr10fK_oNGYjaJVkmPnHX6PXaVVi2w",
      "provenance": []
    },
    "kernelspec": {
      "display_name": "Python 3",
      "name": "python3"
    },
    "language_info": {
      "codemirror_mode": {
        "name": "ipython",
        "version": 3
      },
      "file_extension": ".py",
      "mimetype": "text/x-python",
      "name": "python",
      "nbconvert_exporter": "python",
      "pygments_lexer": "ipython3",
      "version": "3.10.6"
    }
  },
  "nbformat": 4,
  "nbformat_minor": 0
}
